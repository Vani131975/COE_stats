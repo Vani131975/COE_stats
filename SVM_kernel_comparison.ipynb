{
 "cells": [
  {
   "cell_type": "code",
   "execution_count": 1,
   "id": "b30ad9cc-6fa0-47ff-8e5f-5beb842fc044",
   "metadata": {},
   "outputs": [],
   "source": [
    "import numpy as np\n",
    "import pandas as pd\n",
    "import matplotlib.pyplot as plt\n",
    "import seaborn as sns\n",
    "from sklearn.model_selection import train_test_split\n",
    "from sklearn.preprocessing import StandardScaler, LabelEncoder\n",
    "from sklearn.svm import SVC\n",
    "from sklearn.metrics import accuracy_score, classification_report, confusion_matrix\n",
    "from sklearn.decomposition import PCA"
   ]
  },
  {
   "cell_type": "code",
   "execution_count": 3,
   "id": "57b1626e-bb0f-477e-8113-38301ce7025a",
   "metadata": {},
   "outputs": [],
   "source": [
    "df=pd.read_csv(\"C:\\\\Users\\\\vani1\\\\Downloads\\\\heart (1).csv\")"
   ]
  },
  {
   "cell_type": "code",
   "execution_count": 5,
   "id": "d2f562b0-1e9c-4e6a-b963-e803320715ff",
   "metadata": {},
   "outputs": [],
   "source": [
    "df.dropna(inplace=True)\n",
    "label_encoders={}\n",
    "for col in df.select_dtypes(include=['object']).columns:\n",
    "    le=LabelEncoder()\n",
    "    df[col]=le.fit_transform(df[col])\n",
    "    label_encoders[col]=le"
   ]
  },
  {
   "cell_type": "code",
   "execution_count": 7,
   "id": "3f1a0715-6003-41a8-82e2-0337c347dd03",
   "metadata": {},
   "outputs": [],
   "source": [
    "X=df.drop(columns=['target'])\n",
    "y=df['target']\n",
    "X_train,X_test,y_train,y_test=train_test_split(X,y,test_size=0.2,random_state=42)"
   ]
  },
  {
   "cell_type": "code",
   "execution_count": 9,
   "id": "aad58483-776f-4c77-bd77-677098c9b01f",
   "metadata": {},
   "outputs": [],
   "source": [
    "scaler=StandardScaler()\n",
    "X_train=scaler.fit_transform(X_train)\n",
    "X_test=scaler.transform(X_test)"
   ]
  },
  {
   "cell_type": "code",
   "execution_count": 13,
   "id": "89c18ef9-acf2-4627-983b-e86dc2566e58",
   "metadata": {},
   "outputs": [],
   "source": [
    "svm_linear=SVC(kernel='linear',C=1)\n",
    "svm_linear.fit(X_train,y_train)\n",
    "y_pred_linear=svm_linear.predict(X_test)\n",
    "\n",
    "svm_poly=SVC(kernel='poly', degree=3,C=1)\n",
    "svm_poly.fit(X_train,y_train)\n",
    "y_pred_poly=svm_poly.predict(X_test)\n",
    "\n",
    "svm_rbf=SVC(kernel='rbf',C=1, gamma='scale')\n",
    "svm_rbf.fit(X_train,y_train)\n",
    "y_pred_rbf=svm_rbf.predict(X_test)"
   ]
  },
  {
   "cell_type": "code",
   "execution_count": 15,
   "id": "317badfa-ff6b-400f-9ad4-60f04374b67f",
   "metadata": {},
   "outputs": [
    {
     "name": "stdout",
     "output_type": "stream",
     "text": [
      "Linear kernel Accuracy: 0.81\n",
      "Polynomial kernel Accuracy: 0.91\n",
      "RBF kernel Accuracy: 0.89\n"
     ]
    }
   ],
   "source": [
    "print(f\"Linear kernel Accuracy: {accuracy_score(y_test,y_pred_linear):.2f}\")\n",
    "print(f\"Polynomial kernel Accuracy: {accuracy_score(y_test,y_pred_poly):.2f}\")\n",
    "print(f\"RBF kernel Accuracy: {accuracy_score(y_test,y_pred_rbf):.2f}\")"
   ]
  },
  {
   "cell_type": "code",
   "execution_count": null,
   "id": "9eb72202-e6d9-4e8d-9c32-0c716e74ae6a",
   "metadata": {},
   "outputs": [],
   "source": []
  }
 ],
 "metadata": {
  "kernelspec": {
   "display_name": "Python 3 (ipykernel)",
   "language": "python",
   "name": "python3"
  },
  "language_info": {
   "codemirror_mode": {
    "name": "ipython",
    "version": 3
   },
   "file_extension": ".py",
   "mimetype": "text/x-python",
   "name": "python",
   "nbconvert_exporter": "python",
   "pygments_lexer": "ipython3",
   "version": "3.12.7"
  }
 },
 "nbformat": 4,
 "nbformat_minor": 5
}
