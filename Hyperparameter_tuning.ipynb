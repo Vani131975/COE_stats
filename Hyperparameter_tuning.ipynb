{
 "cells": [
  {
   "cell_type": "markdown",
   "id": "c6ed1617-fb8a-4111-9ff1-0fb9edf26976",
   "metadata": {},
   "source": [
    "# Description"
   ]
  },
  {
   "cell_type": "markdown",
   "id": "72e53007-ebee-41f6-8161-3dd7152a0982",
   "metadata": {},
   "source": [
    "### the difference between paramenters and hyper parameters are \n",
    "#### Parameters : Values learned by the model from data during training.\n",
    "#### Hyperparameters : Values set before training that control the learning process."
   ]
  },
  {
   "cell_type": "code",
   "execution_count": 5,
   "id": "7b52022b-8a55-4389-a067-6f7fe3971726",
   "metadata": {},
   "outputs": [],
   "source": [
    "import numpy as np\n",
    "import pandas as pd\n",
    "import matplotlib.pyplot as plt\n",
    "import seaborn as sns\n",
    "from sklearn.model_selection import train_test_split, GridSearchCV, RandomizedSearchCV\n",
    "from sklearn.ensemble import RandomForestClassifier\n",
    "from sklearn.metrics import accuracy_score, classification_report, confusion_matrix\n",
    "from sklearn.datasets import load_iris"
   ]
  },
  {
   "cell_type": "code",
   "execution_count": 7,
   "id": "45f9f53d-8d81-4b1a-aecf-e1e280f877d3",
   "metadata": {},
   "outputs": [],
   "source": [
    "df=load_iris()\n",
    "X=df.data\n",
    "y=df.target"
   ]
  },
  {
   "cell_type": "markdown",
   "id": "db87f69c-783c-4973-b7ff-ca4ed514eb8e",
   "metadata": {},
   "source": [
    "## Hyperparameter grid"
   ]
  },
  {
   "cell_type": "code",
   "execution_count": 11,
   "id": "5d030145-8782-4388-a22e-cfdcbd47ee9a",
   "metadata": {},
   "outputs": [],
   "source": [
    "param_grid={\n",
    "    'n_estimators': [10,50,100,200],\n",
    "    'max_depth': [5,10,20, None],\n",
    "    'min_samples_split': [2,5,10],\n",
    "    'min_samples_leaf':[1,2,4]\n",
    "}\n",
    "\n",
    "X_train,X_test,y_train,y_test=train_test_split(X,y,test_size=0.2,random_state=42)"
   ]
  },
  {
   "cell_type": "markdown",
   "id": "80dcb041-99e6-4045-a8a2-169f1ca652f1",
   "metadata": {},
   "source": [
    "## GridSearchCV"
   ]
  },
  {
   "cell_type": "code",
   "execution_count": 16,
   "id": "e06aa994-dcb3-4374-bdbf-e9d731065b61",
   "metadata": {},
   "outputs": [
    {
     "name": "stdout",
     "output_type": "stream",
     "text": [
      "Fitting 5 folds for each of 144 candidates, totalling 720 fits\n",
      "best parameters from grid search:  {'max_depth': 10, 'min_samples_leaf': 1, 'min_samples_split': 10, 'n_estimators': 100}\n"
     ]
    }
   ],
   "source": [
    "grid_search=GridSearchCV(RandomForestClassifier(),param_grid, cv=5,n_jobs=-1,verbose=1)\n",
    "grid_search.fit(X_train, y_train)\n",
    "\n",
    "#getting best params\n",
    "print(\"best parameters from grid search: \",grid_search.best_params_)"
   ]
  },
  {
   "cell_type": "code",
   "execution_count": 20,
   "id": "b0e235cb-fb18-4d24-8c3f-1ecc5eddb56e",
   "metadata": {},
   "outputs": [
    {
     "name": "stdout",
     "output_type": "stream",
     "text": [
      "Fitting 5 folds for each of 10 candidates, totalling 50 fits\n",
      "besr parameters from Random Search:  {'n_estimators': 50, 'min_samples_split': 10, 'min_samples_leaf': 2, 'max_depth': 5}\n"
     ]
    }
   ],
   "source": [
    "random_search=RandomizedSearchCV(RandomForestClassifier(),param_grid, cv=5,n_jobs=-1,verbose=1)\n",
    "random_search.fit(X_train, y_train)\n",
    "\n",
    "print(\"besr parameters from Random Search: \",random_search.best_params_)"
   ]
  },
  {
   "cell_type": "code",
   "execution_count": 24,
   "id": "8b717c67-8da4-4258-9d46-4e48fa25a74d",
   "metadata": {},
   "outputs": [
    {
     "name": "stdout",
     "output_type": "stream",
     "text": [
      "Grid Search Accuracy:1.00\n",
      "Random Search Accuracy:1.00\n"
     ]
    }
   ],
   "source": [
    "best_grid_model=grid_search.best_estimator_\n",
    "best_random_model=random_search.best_estimator_\n",
    "\n",
    "y_pred_grid=best_grid_model.predict(X_test)\n",
    "y_pred_random=best_random_model.predict(X_test)\n",
    "\n",
    "acc_grid=accuracy_score(y_test,y_pred_grid)\n",
    "acc_random=accuracy_score(y_test,y_pred_random)\n",
    "\n",
    "print(f'Grid Search Accuracy:{acc_grid:.2f}')\n",
    "print(f'Random Search Accuracy:{acc_random:.2f}')"
   ]
  },
  {
   "cell_type": "markdown",
   "id": "5daa5ef5-709b-49c2-8d5d-b7d968faa640",
   "metadata": {},
   "source": [
    "#### Difference between GridSearchCV and RandomizedSearchCV are \n",
    "#### GridSearchCV : Exhaustive search over all possible hyperparameter combinations (Slower).\n",
    "#### RandomizedSearchCV : Randomly selects a subset of hyperparameter combinations (Faster)."
   ]
  },
  {
   "cell_type": "code",
   "execution_count": null,
   "id": "4636802b-3caa-44ec-b9cf-c755173a8ccc",
   "metadata": {},
   "outputs": [],
   "source": []
  }
 ],
 "metadata": {
  "kernelspec": {
   "display_name": "Python 3 (ipykernel)",
   "language": "python",
   "name": "python3"
  },
  "language_info": {
   "codemirror_mode": {
    "name": "ipython",
    "version": 3
   },
   "file_extension": ".py",
   "mimetype": "text/x-python",
   "name": "python",
   "nbconvert_exporter": "python",
   "pygments_lexer": "ipython3",
   "version": "3.12.7"
  }
 },
 "nbformat": 4,
 "nbformat_minor": 5
}
